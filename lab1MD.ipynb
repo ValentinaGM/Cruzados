{
  "nbformat": 4,
  "nbformat_minor": 0,
  "metadata": {
    "colab": {
      "name": "lab1MD.ipynb",
      "version": "0.3.2",
      "provenance": [],
      "include_colab_link": true
    },
    "kernelspec": {
      "name": "python3",
      "display_name": "Python 3"
    }
  },
  "cells": [
    {
      "cell_type": "markdown",
      "metadata": {
        "id": "view-in-github",
        "colab_type": "text"
      },
      "source": [
        "<a href=\"https://colab.research.google.com/github/ValentinaGM/Cruzados/blob/master/lab1MD.ipynb\" target=\"_parent\"><img src=\"https://colab.research.google.com/assets/colab-badge.svg\" alt=\"Open In Colab\"/></a>"
      ]
    },
    {
      "cell_type": "code",
      "metadata": {
        "id": "VGaNOutfwfqb",
        "colab_type": "code",
        "colab": {
          "base_uri": "https://localhost:8080/",
          "height": 204
        },
        "outputId": "e6d13f01-46ee-423d-f662-e12df87a8e92"
      },
      "source": [
        "x = input(\"Ingrese los numeros\") #leer numeros \n",
        "y=[int (n)for n in x.split()] #dividir numeros por espacio y convertir a enteros\n",
        "print (y)\n",
        "\n",
        "def esPrimo (n):   #metodo para saber i un numero es primo\n",
        "  for y in range (2, n-1):\n",
        "    if (n % y) ==0:\n",
        "        return False;\n",
        "  return n != 1;\n",
        "\n",
        "#probar todos los numeros en y\n",
        "for n in y:\n",
        "  if esPrimo(n):\n",
        "    print('El numero', n ,'es primo')\n",
        "  else:\n",
        "      print('El numero', n ,'no es primo')"
      ],
      "execution_count": 1,
      "outputs": [
        {
          "output_type": "stream",
          "text": [
            "Ingrese los numeros1 2 3 4 5 6 7 8 9\n",
            "[1, 2, 3, 4, 5, 6, 7, 8, 9]\n",
            "El numero 1 no es primo\n",
            "El numero 2 es primo\n",
            "El numero 3 es primo\n",
            "El numero 4 no es primo\n",
            "El numero 5 es primo\n",
            "El numero 6 no es primo\n",
            "El numero 7 es primo\n",
            "El numero 8 no es primo\n",
            "El numero 9 no es primo\n"
          ],
          "name": "stdout"
        }
      ]
    }
  ]
}