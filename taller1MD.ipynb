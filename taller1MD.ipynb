{
  "nbformat": 4,
  "nbformat_minor": 0,
  "metadata": {
    "colab": {
      "name": "taller1MD.ipynb",
      "version": "0.3.2",
      "provenance": [],
      "include_colab_link": true
    },
    "kernelspec": {
      "name": "python3",
      "display_name": "Python 3"
    }
  },
  "cells": [
    {
      "cell_type": "markdown",
      "metadata": {
        "id": "view-in-github",
        "colab_type": "text"
      },
      "source": [
        "<a href=\"https://colab.research.google.com/github/ValentinaGM/Cruzados/blob/master/taller1MD.ipynb\" target=\"_parent\"><img src=\"https://colab.research.google.com/assets/colab-badge.svg\" alt=\"Open In Colab\"/></a>"
      ]
    },
    {
      "cell_type": "code",
      "metadata": {
        "id": "aKWe9USNuyXN",
        "colab_type": "code",
        "colab": {
          "base_uri": "https://localhost:8080/",
          "height": 51
        },
        "outputId": "2c5cf57a-0763-41f8-d245-f19997092686"
      },
      "source": [
        "x = input(\"Ingrese los numeros\") #leer numeros \n",
        "y=[int (n)for n in x.split()] #dividir numeros por espacio y convertir a enteros\n",
        "print (y)"
      ],
      "execution_count": 21,
      "outputs": [
        {
          "output_type": "stream",
          "text": [
            "Ingrese los numeros1 2 3 4 5 6 7 8 9 \n",
            "[1, 2, 3, 4, 5, 6, 7, 8, 9]\n"
          ],
          "name": "stdout"
        }
      ]
    },
    {
      "cell_type": "code",
      "metadata": {
        "id": "juppSfqa6lgj",
        "colab_type": "code",
        "colab": {}
      },
      "source": [
        "def esPrimo (n):   #metodo para saber i un numero es primo\n",
        "  for y in range (2, n-1):\n",
        "    if (n % y) ==0:\n",
        "        return False;\n",
        "  return n != 1;"
      ],
      "execution_count": 0,
      "outputs": []
    },
    {
      "cell_type": "code",
      "metadata": {
        "id": "VXCAwz6467dH",
        "colab_type": "code",
        "colab": {
          "base_uri": "https://localhost:8080/",
          "height": 170
        },
        "outputId": "08c6aabf-db83-43b9-b901-ff3a1173a2ae"
      },
      "source": [
        "#probar todos los numeros en y\n",
        "for n in y:\n",
        "  if esPrimo(n):\n",
        "    print('El numero', n ,'es primo')\n",
        "  else:\n",
        "      print('El numero', n ,'no es primo')\n",
        "      "
      ],
      "execution_count": 28,
      "outputs": [
        {
          "output_type": "stream",
          "text": [
            "El numero 1 no es primo\n",
            "El numero 2 es primo\n",
            "El numero 3 es primo\n",
            "El numero 4 no es primo\n",
            "El numero 5 es primo\n",
            "El numero 6 no es primo\n",
            "El numero 7 es primo\n",
            "El numero 8 no es primo\n",
            "El numero 9 no es primo\n"
          ],
          "name": "stdout"
        }
      ]
    }
  ]
}